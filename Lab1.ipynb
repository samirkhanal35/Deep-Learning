{
 "cells": [
  {
   "cell_type": "markdown",
   "metadata": {},
   "source": [
    "# Perceptron"
   ]
  },
  {
   "cell_type": "code",
   "execution_count": 1,
   "metadata": {},
   "outputs": [],
   "source": [
    "import random"
   ]
  },
  {
   "cell_type": "code",
   "execution_count": 2,
   "metadata": {},
   "outputs": [
    {
     "data": {
      "text/plain": [
       "([(0, 0), (0, 1), (1, 0), (1, 1)], [0, 0, 0, 1])"
      ]
     },
     "execution_count": 2,
     "metadata": {},
     "output_type": "execute_result"
    }
   ],
   "source": [
    "# AND gate input output\n",
    "input_data = [(0,0), (0,1), (1,0),(1,1)]\n",
    "output_data = [0, 0, 0, 1]\n",
    "input_data, output_data"
   ]
  },
  {
   "cell_type": "code",
   "execution_count": 3,
   "metadata": {},
   "outputs": [
    {
     "data": {
      "text/plain": [
       "(0.12805282540506302, -0.03381877934778377, 0.08929910854223788)"
      ]
     },
     "execution_count": 3,
     "metadata": {},
     "output_type": "execute_result"
    }
   ],
   "source": [
    "# Initialize weights and bias\n",
    "w1 = random.uniform(-1 , 1)\n",
    "w2 = random.uniform(-1 , 1)\n",
    "b = random.uniform(-1 , 1)\n",
    "w1, w2, b"
   ]
  },
  {
   "cell_type": "code",
   "execution_count": 4,
   "metadata": {},
   "outputs": [],
   "source": [
    "# learning rate\n",
    "lr = 0.1\n",
    "\n",
    "# Number of trial => epochs\n",
    "epochs = 1000"
   ]
  },
  {
   "cell_type": "code",
   "execution_count": 5,
   "metadata": {},
   "outputs": [],
   "source": [
    "# Define activation function => step function\n",
    "def activate(sum):\n",
    "    threshold = 0\n",
    "    if sum>=0: \n",
    "        return 1\n",
    "    else:\n",
    "        return 0"
   ]
  },
  {
   "cell_type": "code",
   "execution_count": 6,
   "metadata": {},
   "outputs": [
    {
     "name": "stdout",
     "output_type": "stream",
     "text": [
      "output: 1\n",
      "error: -1\n",
      "Total error: -1\n",
      "output: 0\n",
      "error: 0\n",
      "Total error: 0\n",
      "output: 1\n",
      "error: -1\n",
      "Total error: -1\n",
      "output: 0\n",
      "error: 1\n",
      "Total error: 1\n",
      "output: 0\n",
      "error: 0\n",
      "Total error: 0\n",
      "output: 1\n",
      "error: -1\n",
      "Total error: -1\n",
      "output: 1\n",
      "error: -1\n",
      "Total error: -1\n",
      "output: 0\n",
      "error: 1\n",
      "Total error: 1\n",
      "output: 0\n",
      "error: 0\n",
      "Total error: 0\n",
      "output: 0\n",
      "error: 0\n",
      "Total error: 0\n",
      "output: 1\n",
      "error: -1\n",
      "Total error: -1\n",
      "output: 0\n",
      "error: 1\n",
      "Total error: 1\n",
      "output: 0\n",
      "error: 0\n",
      "Total error: 0\n",
      "output: 1\n",
      "error: -1\n",
      "Total error: -1\n",
      "output: 0\n",
      "error: 0\n",
      "Total error: 0\n",
      "output: 0\n",
      "error: 1\n",
      "Total error: 1\n",
      "output: 0\n",
      "error: 0\n",
      "Total error: 0\n",
      "output: 1\n",
      "error: -1\n",
      "Total error: -1\n",
      "output: 1\n",
      "error: -1\n",
      "Total error: -1\n",
      "output: 0\n",
      "error: 1\n",
      "Total error: 1\n",
      "output: 0\n",
      "error: 0\n",
      "Total error: 0\n",
      "output: 0\n",
      "error: 0\n",
      "Total error: 0\n",
      "output: 1\n",
      "error: -1\n",
      "Total error: -1\n",
      "output: 0\n",
      "error: 1\n",
      "Total error: 1\n",
      "output: 0\n",
      "error: 0\n",
      "Total error: 0\n",
      "output: 1\n",
      "error: -1\n",
      "Total error: -1\n",
      "output: 0\n",
      "error: 0\n",
      "Total error: 0\n",
      "output: 1\n",
      "error: 0\n",
      "Total error: 0\n",
      "Epoch number: 6\n",
      "Final weights: 0.22805282540506303 0.16618122065221627\n"
     ]
    }
   ],
   "source": [
    "for epoch in range(epochs):\n",
    "    total_error = 0\n",
    "\n",
    "    for i in range(len(input_data)):\n",
    "        input1, input2 = input_data[i]\n",
    "        target_output = output_data[i]\n",
    "\n",
    "        # Compute weighted sum\n",
    "        weighted_sum = input1 * w1 + input2 * w2 + b\n",
    "\n",
    "        output = activate(weighted_sum)\n",
    "        print(\"output:\", output)\n",
    "                \n",
    "        error = target_output - output \n",
    "        print(\"error:\", error)\n",
    "\n",
    "\n",
    "        # update weights and bias\n",
    "        w1 += lr * error * input1 \n",
    "        w2 += lr * error * input2 \n",
    "        b += lr * error\n",
    "\n",
    "        total_error = abs(error) \n",
    "        print(\"Total error:\", error)\n",
    "\n",
    "    if total_error == 0:\n",
    "        print(\"Epoch number:\", epoch)\n",
    "        print(\"Final weights:\", w1, w2)\n",
    "        break\n"
   ]
  },
  {
   "cell_type": "code",
   "execution_count": 7,
   "metadata": {},
   "outputs": [
    {
     "name": "stdout",
     "output_type": "stream",
     "text": [
      "input1: 0 input2: 0 output: 0\n",
      "input1: 0 input2: 1 output: 0\n",
      "input1: 1 input2: 0 output: 0\n",
      "input1: 1 input2: 1 output: 1\n",
      "input1: 0.5 input2: 0 output: 0\n",
      "input1: 0 input2: 0.5 output: 0\n",
      "input1: 0.2 input2: 0.2 output: 0\n",
      "input1: 0.5 input2: 0.5 output: 0\n"
     ]
    }
   ],
   "source": [
    "# Testing \n",
    "test_data = [(0,0), (0,1), (1,0),(1,1), (0.5, 0), (0, 0.5), (0.2, 0.2), (0.5, 0.5)]\n",
    "\n",
    "for e_inp_data in test_data:\n",
    "    input1, input2 = e_inp_data\n",
    "\n",
    "    # Compute weighted sum\n",
    "    weighted_sum = input1 * w1 + input2 * w2 + b\n",
    "\n",
    "    output = activate(weighted_sum)\n",
    "    print(\"input1:\",input1,\"input2:\", input2,\"output:\", output)"
   ]
  },
  {
   "cell_type": "code",
   "execution_count": null,
   "metadata": {},
   "outputs": [],
   "source": []
  }
 ],
 "metadata": {
  "kernelspec": {
   "display_name": "base",
   "language": "python",
   "name": "python3"
  },
  "language_info": {
   "codemirror_mode": {
    "name": "ipython",
    "version": 3
   },
   "file_extension": ".py",
   "mimetype": "text/x-python",
   "name": "python",
   "nbconvert_exporter": "python",
   "pygments_lexer": "ipython3",
   "version": "3.9.12"
  },
  "orig_nbformat": 4
 },
 "nbformat": 4,
 "nbformat_minor": 2
}
