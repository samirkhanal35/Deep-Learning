{
 "cells": [
  {
   "cell_type": "code",
   "execution_count": 8,
   "metadata": {},
   "outputs": [],
   "source": [
    "matrix_A = [[0, 2],\n",
    "     [4, 6]]\n",
    "\n",
    "matrix_B = [[1, 3],\n",
    "     [5, 7]]"
   ]
  },
  {
   "cell_type": "code",
   "execution_count": 9,
   "metadata": {},
   "outputs": [],
   "source": [
    "# Initialize a result matrix with zeros\n",
    "result = [[0 for _ in range(len(matrix_B[0]))] for _ in range(len(matrix_A))]\n",
    "\n",
    "# Perform manual matrix multiplication\n",
    "for i in range(len(matrix_A)):\n",
    "    for j in range(len(matrix_B[0])):\n",
    "        for k in range(len(matrix_B)):\n",
    "            result[i][j] += matrix_A[i][k] * matrix_B[k][j]"
   ]
  },
  {
   "cell_type": "code",
   "execution_count": 10,
   "metadata": {},
   "outputs": [
    {
     "data": {
      "text/plain": [
       "[[10, 14], [34, 54]]"
      ]
     },
     "execution_count": 10,
     "metadata": {},
     "output_type": "execute_result"
    }
   ],
   "source": [
    "result"
   ]
  }
 ],
 "metadata": {
  "kernelspec": {
   "display_name": "base",
   "language": "python",
   "name": "python3"
  },
  "language_info": {
   "codemirror_mode": {
    "name": "ipython",
    "version": 3
   },
   "file_extension": ".py",
   "mimetype": "text/x-python",
   "name": "python",
   "nbconvert_exporter": "python",
   "pygments_lexer": "ipython3",
   "version": "3.9.12"
  },
  "orig_nbformat": 4
 },
 "nbformat": 4,
 "nbformat_minor": 2
}
